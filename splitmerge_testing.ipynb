{
 "cells": [
  {
   "cell_type": "code",
   "execution_count": 1,
   "id": "0d88e93e-1e1a-4848-a7c5-d26c54d79b95",
   "metadata": {},
   "outputs": [],
   "source": [
    "import math\n",
    "import torch\n",
    "import torch.nn as nn\n",
    "import torch.nn.functional as F\n",
    "\n",
    "from models.winnet.splitmerge import (\n",
    "    DCTSplitMerge,\n",
    "    StationaryHaarSplitMerge,\n",
    "    MultiScaleStationaryHaar,\n",
    "    LearnableHaarSplitMerge,\n",
    ")"
   ]
  },
  {
   "cell_type": "code",
   "execution_count": 2,
   "id": "836918ca-e3cd-4c01-b1c0-d0aed4ecf544",
   "metadata": {},
   "outputs": [],
   "source": [
    "def verify_forward_inverse_pass(splitmerge, in_ch=1):\n",
    "    x = torch.randn(8, in_ch, 32, 32)\n",
    "    x_coarse, x_detail = splitmerge(x)\n",
    "    x_rec = splitmerge.inverse(x_coarse, x_detail)\n",
    "    reconstruction_error = (x - x_rec).abs().max().item()\n",
    "    \n",
    "    print(f\"coarse, detail shapes: {x_coarse.shape}, {x_detail.shape}\")\n",
    "    print(\"reconstruction error:\", reconstruction_error) "
   ]
  },
  {
   "cell_type": "markdown",
   "id": "ea5ce728-be4c-4ac4-880c-339a0eb50f8f",
   "metadata": {},
   "source": [
    "## DCTSplitMerge"
   ]
  },
  {
   "cell_type": "code",
   "execution_count": 3,
   "id": "73615797-70aa-4606-bcc9-9bd404cb0d0d",
   "metadata": {},
   "outputs": [
    {
     "name": "stdout",
     "output_type": "stream",
     "text": [
      "coarse, detail shapes: torch.Size([8, 6, 32, 32]), torch.Size([8, 42, 32, 32])\n",
      "reconstruction error: 6.348522186279297\n"
     ]
    }
   ],
   "source": [
    "splitmerge = DCTSplitMerge(\n",
    "    in_channels=3,\n",
    "    coarse_to_in_ch_ratio=2,\n",
    "    patch_size=4,\n",
    ")\n",
    "\n",
    "verify_forward_inverse_pass(splitmerge, in_ch=3)"
   ]
  },
  {
   "cell_type": "markdown",
   "id": "d1f6b0d2-3801-4b4e-9b39-75d6c862200a",
   "metadata": {},
   "source": [
    "## StationaryHaarSplitMerge"
   ]
  },
  {
   "cell_type": "code",
   "execution_count": 4,
   "id": "179c3b33-0543-442b-9886-84568a774ea2",
   "metadata": {},
   "outputs": [
    {
     "name": "stdout",
     "output_type": "stream",
     "text": [
      "coarse, detail shapes: torch.Size([8, 1, 32, 32]), torch.Size([8, 3, 32, 32])\n",
      "reconstruction error: 2.9933762550354004\n"
     ]
    }
   ],
   "source": [
    "splitmerge = StationaryHaarSplitMerge(\n",
    "    in_channels=1,\n",
    ")\n",
    "\n",
    "verify_forward_inverse_pass(splitmerge, in_ch=1)"
   ]
  },
  {
   "cell_type": "markdown",
   "id": "d20dd82e-9f1a-424a-8924-d6d3b716c6b8",
   "metadata": {},
   "source": [
    "## MultiScaleStationaryHaar"
   ]
  },
  {
   "cell_type": "code",
   "execution_count": 11,
   "id": "f6c4279d-f643-4f5c-b6e2-02cdfe484bbf",
   "metadata": {},
   "outputs": [
    {
     "name": "stdout",
     "output_type": "stream",
     "text": [
      "coarse, detail shapes: torch.Size([8, 3, 32, 32]), torch.Size([8, 10, 32, 32])\n",
      "reconstruction error: 3.67927885055542\n"
     ]
    }
   ],
   "source": [
    "splitmerge = MultiScaleStationaryHaar(\n",
    "    in_channels=1,\n",
    "    coarse_to_in_ch_ratio=3,\n",
    "    num_scales=4,\n",
    ")\n",
    "\n",
    "verify_forward_inverse_pass(splitmerge, in_ch=1)"
   ]
  },
  {
   "cell_type": "markdown",
   "id": "42a072df-2a50-4188-8ea9-e9d399745ad9",
   "metadata": {},
   "source": [
    "## LearnableHaarSplitMerge"
   ]
  },
  {
   "cell_type": "code",
   "execution_count": 16,
   "id": "02b1e744-6951-4c14-8710-ac0f33af565d",
   "metadata": {},
   "outputs": [
    {
     "name": "stdout",
     "output_type": "stream",
     "text": [
      "coarse, detail shapes: torch.Size([8, 4, 32, 32]), torch.Size([8, 12, 32, 32])\n",
      "reconstruction error: 2.6168160438537598\n"
     ]
    }
   ],
   "source": [
    "splitmerge = LearnableHaarSplitMerge(\n",
    "    in_channels=1, \n",
    "    num_filters=16, \n",
    "    coarse_to_in_ch_ratio=4, \n",
    ")\n",
    "\n",
    "verify_forward_inverse_pass(splitmerge, in_ch=1)"
   ]
  },
  {
   "cell_type": "code",
   "execution_count": null,
   "id": "ebb22e0f-09e8-452d-993d-cad3c3b1e35a",
   "metadata": {},
   "outputs": [],
   "source": [
    "layer = LearnableHaarSplitMerge(\n",
    "    in_channels=3, \n",
    "    num_filters=6, \n",
    "    coarse_to_in_ch_ratio=1, \n",
    ")\n",
    "\n",
    "x = torch.randn(8, 3, 32, 32)            # mini-batch\n",
    "x_c, x_d = layer(x)                        # split\n",
    "x_rec     = layer.inverse(x_c, x_d)        # merge\n",
    "\n",
    "# example training step\n",
    "recon_loss = F.mse_loss(x_rec, x)\n",
    "ortho_loss = 1e-3 * layer.orthogonality_loss()\n",
    "# loss = recon_loss + ortho_loss\n",
    "# loss.backward()\n",
    "# optimizer.step()\n",
    "reconstruction_error = (x - x_rec).abs().max().item()\n",
    "print(\"error:\", reconstruction_error)      # should be 0 (up to fp-roundoff)"
   ]
  },
  {
   "cell_type": "code",
   "execution_count": 19,
   "id": "9f4a633d-e5aa-4beb-a7ef-9365e57e2a7b",
   "metadata": {},
   "outputs": [
    {
     "name": "stdout",
     "output_type": "stream",
     "text": [
      "torch.Size([8, 3, 32, 32]) torch.Size([8, 15, 32, 32])\n"
     ]
    }
   ],
   "source": [
    "print(x_c.shape, x_d.shape)"
   ]
  },
  {
   "cell_type": "code",
   "execution_count": 46,
   "id": "308b7aa5-1043-450b-87ee-212470d2c77f",
   "metadata": {},
   "outputs": [],
   "source": [
    "def print_loss_components(loss_components, end=\", \"):\n",
    "    print(\"\\t\", end=\"\")\n",
    "    for name, loss_val in loss_components.items():\n",
    "        if loss_val > 0.0:\n",
    "            print(f\"{name}: {loss_val:.4f}\", end=end) \n",
    "    print(\"\")"
   ]
  },
  {
   "cell_type": "code",
   "execution_count": 47,
   "id": "37e07233-6b88-4e1a-a81c-d54c023f0d56",
   "metadata": {},
   "outputs": [],
   "source": [
    "comps = {'reconstruction_loss': 0.014870839193463326, 'total_loss': 0.015197951346635818, 'clista_orthgonal': 0.0, 'splitmerge_orthogonal': 0.0, 'lifting_spectral_norm': 3.271117925643921, 'spitmerge_orthogonal': 0.0962127223610878}"
   ]
  },
  {
   "cell_type": "code",
   "execution_count": 48,
   "id": "4fddf305-4773-49ff-995c-58e6cf340402",
   "metadata": {},
   "outputs": [
    {
     "name": "stdout",
     "output_type": "stream",
     "text": [
      "\treconstruction_loss: 0.0149, total_loss: 0.0152, lifting_spectral_norm: 3.2711, spitmerge_orthogonal: 0.0962, \n",
      "\treconstruction_loss: 0.0149, total_loss: 0.0152, lifting_spectral_norm: 3.2711, spitmerge_orthogonal: 0.0962, \n"
     ]
    }
   ],
   "source": [
    "print_loss_components(comps)\n",
    "print_loss_components(comps)"
   ]
  },
  {
   "cell_type": "code",
   "execution_count": null,
   "id": "f6942fd9-2e8a-4506-95ef-a1b5c7703256",
   "metadata": {},
   "outputs": [],
   "source": []
  }
 ],
 "metadata": {
  "kernelspec": {
   "display_name": "Python 3 (ipykernel)",
   "language": "python",
   "name": "python3"
  },
  "language_info": {
   "codemirror_mode": {
    "name": "ipython",
    "version": 3
   },
   "file_extension": ".py",
   "mimetype": "text/x-python",
   "name": "python",
   "nbconvert_exporter": "python",
   "pygments_lexer": "ipython3",
   "version": "3.12.3"
  }
 },
 "nbformat": 4,
 "nbformat_minor": 5
}
