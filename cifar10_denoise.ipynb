{
 "cells": [
  {
   "cell_type": "code",
   "execution_count": 1,
   "id": "f0244ebd-bae8-4d3b-b156-e9acd3c5e552",
   "metadata": {
    "executionInfo": {
     "elapsed": 9780,
     "status": "ok",
     "timestamp": 1748640136997,
     "user": {
      "displayName": "Jian Rong Lee",
      "userId": "00154049140313558990"
     },
     "user_tz": -120
    },
    "id": "f0244ebd-bae8-4d3b-b156-e9acd3c5e552"
   },
   "outputs": [],
   "source": [
    "import math\n",
    "import random\n",
    "import torch\n",
    "from torch.utils.data import Dataset, DataLoader\n",
    "from torchvision import datasets, transforms\n",
    "import matplotlib.pyplot as plt\n",
    "import numpy as np"
   ]
  },
  {
   "cell_type": "code",
   "execution_count": 2,
   "id": "r0QfpUfZBUPl",
   "metadata": {
    "colab": {
     "base_uri": "https://localhost:8080/"
    },
    "executionInfo": {
     "elapsed": 24097,
     "status": "ok",
     "timestamp": 1748640161098,
     "user": {
      "displayName": "Jian Rong Lee",
      "userId": "00154049140313558990"
     },
     "user_tz": -120
    },
    "id": "r0QfpUfZBUPl",
    "outputId": "d651c0af-d97f-4d3e-c2e1-3627550f6d7b"
   },
   "outputs": [
    {
     "name": "stdout",
     "output_type": "stream",
     "text": [
      "Mounted at /content/drive\n"
     ]
    }
   ],
   "source": [
    "from google.colab import drive\n",
    "drive.mount('/content/drive')"
   ]
  },
  {
   "cell_type": "code",
   "execution_count": 3,
   "id": "7L0SZFBRBalE",
   "metadata": {
    "executionInfo": {
     "elapsed": 2,
     "status": "ok",
     "timestamp": 1748640161103,
     "user": {
      "displayName": "Jian Rong Lee",
      "userId": "00154049140313558990"
     },
     "user_tz": -120
    },
    "id": "7L0SZFBRBalE"
   },
   "outputs": [],
   "source": [
    "proj_folder = \"/content/drive/MyDrive/machine_learning/FYPTinyDiffusion/diffusion_winnet\""
   ]
  },
  {
   "cell_type": "code",
   "execution_count": 4,
   "id": "x8ymUm7HBcQI",
   "metadata": {
    "executionInfo": {
     "elapsed": 1,
     "status": "ok",
     "timestamp": 1748640161106,
     "user": {
      "displayName": "Jian Rong Lee",
      "userId": "00154049140313558990"
     },
     "user_tz": -120
    },
    "id": "x8ymUm7HBcQI"
   },
   "outputs": [],
   "source": [
    "import sys\n",
    "sys.path.append(proj_folder)\n",
    "sys.path.append(f\"{proj_folder}/winnet\")"
   ]
  },
  {
   "cell_type": "markdown",
   "id": "NKoMbbGSILiL",
   "metadata": {
    "id": "NKoMbbGSILiL"
   },
   "source": [
    "## Prepare the Dataset"
   ]
  },
  {
   "cell_type": "code",
   "execution_count": 5,
   "id": "50d5abb9-24fb-402e-aaa0-9d3fca61b2b9",
   "metadata": {
    "executionInfo": {
     "elapsed": 1,
     "status": "ok",
     "timestamp": 1748640161109,
     "user": {
      "displayName": "Jian Rong Lee",
      "userId": "00154049140313558990"
     },
     "user_tz": -120
    },
    "id": "50d5abb9-24fb-402e-aaa0-9d3fca61b2b9"
   },
   "outputs": [],
   "source": [
    "def sigmoid_noise_level(t, T):\n",
    "    \"\"\"\n",
    "    Args\n",
    "        t (int or Tensor): integer time-step 0 ... T-1\n",
    "        T (int): total number of steps.\n",
    "    Returns\n",
    "        noise_level in [0, 1] - larger => more noise.\n",
    "    \"\"\"\n",
    "    x = (t / T) * 12.0 - 6.0\n",
    "    return 1.0 / (1.0 + torch.exp(-x))"
   ]
  },
  {
   "cell_type": "code",
   "execution_count": 6,
   "id": "aa757f00-474b-4dc5-9c4d-c105e83f9e65",
   "metadata": {
    "executionInfo": {
     "elapsed": 1,
     "status": "ok",
     "timestamp": 1748639694156,
     "user": {
      "displayName": "Jian Rong Lee",
      "userId": "00154049140313558990"
     },
     "user_tz": -120
    },
    "id": "aa757f00-474b-4dc5-9c4d-c105e83f9e65"
   },
   "outputs": [],
   "source": [
    "class NoisyCIFAR10(Dataset):\n",
    "    \"\"\"Returns (noise_image, t, clean_image)\"\"\"\n",
    "    def __init__(\n",
    "        self,\n",
    "        root=\"./data\",\n",
    "        train=True,\n",
    "        download=True,\n",
    "        T=1000,\n",
    "        transform=None\n",
    "    ):\n",
    "        self.T = T\n",
    "        self.clean_set = datasets.CIFAR10(\n",
    "            root=root,\n",
    "            train=train,\n",
    "            download=download,\n",
    "            transform=transforms.ToTensor(),\n",
    "        )\n",
    "        self.extra_tf = transform\n",
    "\n",
    "    def __len__(self):\n",
    "        return len(self.clean_set)\n",
    "\n",
    "    def __getitem__(self, idx):\n",
    "        clean_img, _ = self.clean_set[idx] # ignore class label\n",
    "        if self.extra_tf is not None:\n",
    "            clean_image = self.extra_tf(clean_img)\n",
    "\n",
    "        # sample a random timestep\n",
    "        t = torch.randint(low=0, high=self.T, size=(1,), dtype=torch.long)\n",
    "\n",
    "        # convert t to sigma via the sigmoid noise schedule\n",
    "        noise_level = sigmoid_noise_level(t.float(), self.T)\n",
    "        sigma = noise_level.sqrt()\n",
    "\n",
    "        # add Gaussian noise\n",
    "        noise = torch.randn_like(clean_img) * sigma\n",
    "        noisy_img = clean_img + noise\n",
    "        noisy_img = torch.clamp(noisy_img, 0.0, 1.0)\n",
    "        return noisy_img, t.squeeze(0), clean_img"
   ]
  },
  {
   "cell_type": "code",
   "execution_count": null,
   "id": "d9ae0d5f-4ef6-4be8-a937-315aff74a64e",
   "metadata": {
    "colab": {
     "base_uri": "https://localhost:8080/"
    },
    "executionInfo": {
     "elapsed": 6838,
     "status": "ok",
     "timestamp": 1748471763947,
     "user": {
      "displayName": "Jian Rong Lee",
      "userId": "00154049140313558990"
     },
     "user_tz": -120
    },
    "id": "d9ae0d5f-4ef6-4be8-a937-315aff74a64e",
    "outputId": "97dfd87e-11ab-4967-a454-7f55d5649548"
   },
   "outputs": [
    {
     "name": "stderr",
     "output_type": "stream",
     "text": [
      "100%|██████████| 170M/170M [00:03<00:00, 44.1MB/s]\n"
     ]
    },
    {
     "name": "stdout",
     "output_type": "stream",
     "text": [
      "Noisy image shape: torch.Size([3, 32, 32])\n",
      "Clean image shape: torch.Size([3, 32, 32])\n",
      "Time-step t: 413 (0 <= t < 1000)\n"
     ]
    }
   ],
   "source": [
    "ds = NoisyCIFAR10(T=1000)\n",
    "loader = DataLoader(ds, batch_size=8, shuffle=True, num_workers=2)\n",
    "\n",
    "noisy, t, clean = ds[random.randrange(len(ds))]\n",
    "\n",
    "print(f\"Noisy image shape: {noisy.shape}\")\n",
    "print(f\"Clean image shape: {clean.shape}\")\n",
    "print(f\"Time-step t: {t.item()} (0 <= t < {ds.T})\")"
   ]
  },
  {
   "cell_type": "code",
   "execution_count": null,
   "id": "a0124700-38e7-438d-a18b-76beff926317",
   "metadata": {
    "id": "a0124700-38e7-438d-a18b-76beff926317"
   },
   "outputs": [],
   "source": [
    "def img_to_np(x):\n",
    "    x = x.detach().cpu().numpy().transpose(1, 2, 0)\n",
    "    return (x * 255).astype(np.uint8)"
   ]
  },
  {
   "cell_type": "code",
   "execution_count": null,
   "id": "a78900fe-9e10-4bd8-806e-eb8b110c63e3",
   "metadata": {
    "colab": {
     "base_uri": "https://localhost:8080/",
     "height": 246
    },
    "executionInfo": {
     "elapsed": 315,
     "status": "ok",
     "timestamp": 1748471764290,
     "user": {
      "displayName": "Jian Rong Lee",
      "userId": "00154049140313558990"
     },
     "user_tz": -120
    },
    "id": "a78900fe-9e10-4bd8-806e-eb8b110c63e3",
    "outputId": "4a8c00a8-676e-4ae4-f2c1-6ec47dfdb5bd"
   },
   "outputs": [
    {
     "data": {
      "image/png": "[encoded data removed]",
      "text/plain": [
       "<Figure size 450x230 with 2 Axes>"
      ]
     },
     "metadata": {},
     "output_type": "display_data"
    }
   ],
   "source": [
    "fig, axes = plt.subplots(1, 2, figsize=(4.5, 2.3))\n",
    "axes[0].imshow(img_to_np(noisy))\n",
    "axes[0].set_title(f\"Noisy: t = {t.item()}\")\n",
    "axes[0].axis(\"off\")\n",
    "\n",
    "axes[1].imshow(img_to_np(clean))\n",
    "axes[1].set_title(\"Clean (target)\")\n",
    "axes[1].axis(\"off\")\n",
    "\n",
    "plt.tight_layout()\n",
    "plt.show()"
   ]
  },
  {
   "cell_type": "markdown",
   "id": "g7ZMr7UOIIJ6",
   "metadata": {
    "id": "g7ZMr7UOIIJ6"
   },
   "source": [
    "## Train the Model"
   ]
  },
  {
   "cell_type": "code",
   "execution_count": null,
   "id": "46d6b7cc-3165-4c47-985e-0f41dbed233d",
   "metadata": {
    "id": "46d6b7cc-3165-4c47-985e-0f41dbed233d"
   },
   "outputs": [],
   "source": [
    "# train_denoiser.py\n",
    "import time\n",
    "import torch\n",
    "from torch.utils.data import DataLoader\n",
    "from torch.optim import AdamW\n",
    "from torch.nn import MSELoss"
   ]
  },
  {
   "cell_type": "code",
   "execution_count": null,
   "id": "f20655a0-3224-4050-92ed-d44332b642cd",
   "metadata": {
    "id": "f20655a0-3224-4050-92ed-d44332b642cd"
   },
   "outputs": [],
   "source": [
    "from unet import UNet"
   ]
  },
  {
   "cell_type": "code",
   "execution_count": null,
   "id": "0c19467c-e918-4994-909a-037448248a92",
   "metadata": {
    "id": "0c19467c-e918-4994-909a-037448248a92"
   },
   "outputs": [],
   "source": [
    "init_params = {\n",
    "    \"UNet\": {\n",
    "        \"base_channels\": 64,\n",
    "        \"channel_multipliers\": (1, 2, 4, 8),\n",
    "        \"in_channels\": 3\n",
    "    },\n",
    "}"
   ]
  },
  {
   "cell_type": "code",
   "execution_count": null,
   "id": "a457812c-fa1d-437a-8366-0929a5aa9f2e",
   "metadata": {
    "id": "a457812c-fa1d-437a-8366-0929a5aa9f2e"
   },
   "outputs": [],
   "source": [
    "model = UNet(**init_params[\"UNet\"])"
   ]
  },
  {
   "cell_type": "code",
   "execution_count": null,
   "id": "u_qqqqryBTZr",
   "metadata": {
    "colab": {
     "base_uri": "https://localhost:8080/"
    },
    "executionInfo": {
     "elapsed": 7,
     "status": "ok",
     "timestamp": 1748471767464,
     "user": {
      "displayName": "Jian Rong Lee",
      "userId": "00154049140313558990"
     },
     "user_tz": -120
    },
    "id": "u_qqqqryBTZr",
    "outputId": "19f1dfe4-71b3-475c-d4e1-cd157a59ee0e"
   },
   "outputs": [
    {
     "data": {
      "text/plain": [
       "35711491"
      ]
     },
     "execution_count": 14,
     "metadata": {},
     "output_type": "execute_result"
    }
   ],
   "source": [
    "param_count = sum(p.numel() for p in model.parameters())\n",
    "param_count"
   ]
  },
  {
   "cell_type": "code",
   "execution_count": null,
   "id": "b87077ac-177a-40cc-bd44-4087e58b7c8a",
   "metadata": {
    "id": "b87077ac-177a-40cc-bd44-4087e58b7c8a"
   },
   "outputs": [],
   "source": [
    "BATCH_SIZE = 128\n",
    "EPOCHS      = 20\n",
    "LR          = 1e-4\n",
    "T_STEPS     = 1_000      # keep same as in dataset / model\n",
    "NUM_WORKERS = 4"
   ]
  },
  {
   "cell_type": "code",
   "execution_count": null,
   "id": "0099d071-45aa-42fe-9a99-6833368b4581",
   "metadata": {
    "id": "0099d071-45aa-42fe-9a99-6833368b4581"
   },
   "outputs": [],
   "source": [
    "train_set = NoisyCIFAR10(train=True,  T=T_STEPS)\n",
    "val_set   = NoisyCIFAR10(train=False, T=T_STEPS)\n",
    "\n",
    "train_loader = DataLoader(\n",
    "    train_set, batch_size=BATCH_SIZE, shuffle=True,\n",
    "    num_workers=NUM_WORKERS, pin_memory=True\n",
    ")\n",
    "val_loader = DataLoader(\n",
    "    val_set,   batch_size=BATCH_SIZE, shuffle=False,\n",
    "    num_workers=NUM_WORKERS, pin_memory=True\n",
    ")"
   ]
  },
  {
   "cell_type": "code",
   "execution_count": null,
   "id": "25e5b8fe-3572-4e91-b4e0-d639c9943cae",
   "metadata": {
    "id": "25e5b8fe-3572-4e91-b4e0-d639c9943cae"
   },
   "outputs": [],
   "source": [
    "device = torch.device(\"cuda\" if torch.cuda.is_available() else \"cpu\")\n",
    "model  = model.to(device)\n",
    "crit   = MSELoss()\n",
    "opt    = AdamW(model.parameters(), lr=LR)"
   ]
  },
  {
   "cell_type": "code",
   "execution_count": null,
   "id": "ad49a2b5-1868-420c-a974-2db6019b2b4e",
   "metadata": {
    "id": "ad49a2b5-1868-420c-a974-2db6019b2b4e"
   },
   "outputs": [],
   "source": [
    "def train_denoiser(\n",
    "    model,\n",
    "    device,\n",
    "    crit,\n",
    "    opt,\n",
    "    train_loader,\n",
    "    val_loader\n",
    "):\n",
    "    for epoch in range(1, EPOCHS + 1):\n",
    "        train_losses = []\n",
    "        val_losses = []\n",
    "        tic = time.time()\n",
    "\n",
    "        # ---- TRAIN -------------------------------------------------------\n",
    "        model.train()\n",
    "        running_loss = 0.0\n",
    "\n",
    "        for noisy, t, clean in train_loader:\n",
    "            noisy, t, clean = noisy.to(device), t.to(device), clean.to(device)\n",
    "\n",
    "            pred  = model(noisy, t)       # expected signature: f(x, t) -> denoised\n",
    "            loss  = crit(pred, clean)\n",
    "\n",
    "            opt.zero_grad()\n",
    "            loss.backward()\n",
    "            opt.step()\n",
    "\n",
    "            running_loss += loss.item() * noisy.size(0)\n",
    "\n",
    "        train_mse = running_loss / len(train_loader.dataset)\n",
    "        train_losses.append(train_mse)\n",
    "\n",
    "        # ---- VALIDATE ----------------------------------------------------\n",
    "        model.eval()\n",
    "        val_running = 0.0\n",
    "        with torch.no_grad():\n",
    "            for noisy, t, clean in val_loader:\n",
    "                noisy, t, clean = noisy.to(device), t.to(device), clean.to(device)\n",
    "                pred  = model(noisy, t)\n",
    "                loss  = crit(pred, clean)\n",
    "                val_running += loss.item() * noisy.size(0)\n",
    "\n",
    "        val_mse = val_running / len(val_loader.dataset)\n",
    "        val_losses.append(val_mse)\n",
    "        epoch_time = time.time() - tic\n",
    "\n",
    "        # ---- LOG ---------------------------------------------------------\n",
    "        print(\n",
    "            f\"Epoch {epoch:02d}/{EPOCHS} | \"\n",
    "            f\"Train MSE: {train_mse:.6f} | \"\n",
    "            f\"Val MSE: {val_mse:.6f} | \"\n",
    "            f\"Time: {epoch_time:.1f}s\"\n",
    "        )\n",
    "\n",
    "    return train_losses, val_losses"
   ]
  },
  {
   "cell_type": "code",
   "execution_count": null,
   "id": "b816157d-1687-4bbc-b279-7b1e3269589f",
   "metadata": {
    "colab": {
     "base_uri": "https://localhost:8080/",
     "height": 645
    },
    "executionInfo": {
     "elapsed": 1593503,
     "status": "error",
     "timestamp": 1748474029845,
     "user": {
      "displayName": "Jian Rong Lee",
      "userId": "00154049140313558990"
     },
     "user_tz": -120
    },
    "id": "b816157d-1687-4bbc-b279-7b1e3269589f",
    "outputId": "61e51fb8-4799-43f2-9811-8d48b82b585f"
   },
   "outputs": [
    {
     "name": "stdout",
     "output_type": "stream",
     "text": [
      "Epoch 01/50 | Train MSE: 0.023099 | Val MSE: 0.014602 | Time: 114.2s\n",
      "Epoch 02/50 | Train MSE: 0.013460 | Val MSE: 0.012567 | Time: 112.9s\n",
      "Epoch 03/50 | Train MSE: 0.012165 | Val MSE: 0.011831 | Time: 112.7s\n",
      "Epoch 04/50 | Train MSE: 0.011620 | Val MSE: 0.011440 | Time: 112.7s\n",
      "Epoch 05/50 | Train MSE: 0.011188 | Val MSE: 0.011214 | Time: 112.7s\n",
      "Epoch 06/50 | Train MSE: 0.011072 | Val MSE: 0.010941 | Time: 112.4s\n",
      "Epoch 07/50 | Train MSE: 0.010864 | Val MSE: 0.010873 | Time: 112.4s\n",
      "Epoch 08/50 | Train MSE: 0.010819 | Val MSE: 0.010764 | Time: 112.7s\n",
      "Epoch 09/50 | Train MSE: 0.010678 | Val MSE: 0.010692 | Time: 112.6s\n",
      "Epoch 10/50 | Train MSE: 0.010675 | Val MSE: 0.010872 | Time: 112.2s\n",
      "Epoch 11/50 | Train MSE: 0.010553 | Val MSE: 0.010547 | Time: 112.5s\n",
      "Epoch 12/50 | Train MSE: 0.010561 | Val MSE: 0.010556 | Time: 112.5s\n",
      "Epoch 13/50 | Train MSE: 0.010478 | Val MSE: 0.010459 | Time: 112.5s\n",
      "Epoch 14/50 | Train MSE: 0.010459 | Val MSE: 0.010517 | Time: 112.6s\n",
      "Epoch 15/50 | Train MSE: 0.010393 | Val MSE: 0.010313 | Time: 113.0s\n",
      "Epoch 16/50 | Train MSE: 0.010406 | Val MSE: 0.010255 | Time: 112.7s\n",
      "Epoch 17/50 | Train MSE: 0.010366 | Val MSE: 0.010224 | Time: 112.8s\n",
      "Epoch 18/50 | Train MSE: 0.010368 | Val MSE: 0.010291 | Time: 113.1s\n",
      "Epoch 19/50 | Train MSE: 0.010304 | Val MSE: 0.010424 | Time: 112.9s\n",
      "Epoch 20/50 | Train MSE: 0.010243 | Val MSE: 0.010346 | Time: 112.3s\n"
     ]
    },
    {
     "ename": "KeyboardInterrupt",
     "evalue": "",
     "output_type": "error",
     "traceback": [
      "\u001b[0;31m---------------------------------------------------------------------------\u001b[0m",
      "\u001b[0;31mKeyboardInterrupt\u001b[0m                         Traceback (most recent call last)",
      "\u001b[0;32m<ipython-input-19-8cd28d1318cf>\u001b[0m in \u001b[0;36m<cell line: 0>\u001b[0;34m()\u001b[0m\n\u001b[0;32m----> 1\u001b[0;31m train_losses, val_losses = train_denoiser(\n\u001b[0m\u001b[1;32m      2\u001b[0m     \u001b[0mmodel\u001b[0m\u001b[0;34m,\u001b[0m \u001b[0mdevice\u001b[0m\u001b[0;34m,\u001b[0m \u001b[0mcrit\u001b[0m\u001b[0;34m,\u001b[0m \u001b[0mopt\u001b[0m\u001b[0;34m,\u001b[0m \u001b[0mtrain_loader\u001b[0m\u001b[0;34m,\u001b[0m \u001b[0mval_loader\u001b[0m\u001b[0;34m\u001b[0m\u001b[0;34m\u001b[0m\u001b[0m\n\u001b[1;32m      3\u001b[0m )\n",
      "\u001b[0;32m<ipython-input-18-482de83e260f>\u001b[0m in \u001b[0;36mtrain_denoiser\u001b[0;34m(model, device, crit, opt, train_loader, val_loader)\u001b[0m\n\u001b[1;32m     26\u001b[0m             \u001b[0mopt\u001b[0m\u001b[0;34m.\u001b[0m\u001b[0mstep\u001b[0m\u001b[0;34m(\u001b[0m\u001b[0;34m)\u001b[0m\u001b[0;34m\u001b[0m\u001b[0;34m\u001b[0m\u001b[0m\n\u001b[1;32m     27\u001b[0m \u001b[0;34m\u001b[0m\u001b[0m\n\u001b[0;32m---> 28\u001b[0;31m             \u001b[0mrunning_loss\u001b[0m \u001b[0;34m+=\u001b[0m \u001b[0mloss\u001b[0m\u001b[0;34m.\u001b[0m\u001b[0mitem\u001b[0m\u001b[0;34m(\u001b[0m\u001b[0;34m)\u001b[0m \u001b[0;34m*\u001b[0m \u001b[0mnoisy\u001b[0m\u001b[0;34m.\u001b[0m\u001b[0msize\u001b[0m\u001b[0;34m(\u001b[0m\u001b[0;36m0\u001b[0m\u001b[0;34m)\u001b[0m\u001b[0;34m\u001b[0m\u001b[0;34m\u001b[0m\u001b[0m\n\u001b[0m\u001b[1;32m     29\u001b[0m \u001b[0;34m\u001b[0m\u001b[0m\n\u001b[1;32m     30\u001b[0m         \u001b[0mtrain_mse\u001b[0m \u001b[0;34m=\u001b[0m \u001b[0mrunning_loss\u001b[0m \u001b[0;34m/\u001b[0m \u001b[0mlen\u001b[0m\u001b[0;34m(\u001b[0m\u001b[0mtrain_loader\u001b[0m\u001b[0;34m.\u001b[0m\u001b[0mdataset\u001b[0m\u001b[0;34m)\u001b[0m\u001b[0;34m\u001b[0m\u001b[0;34m\u001b[0m\u001b[0m\n",
      "\u001b[0;31mKeyboardInterrupt\u001b[0m: "
     ]
    }
   ],
   "source": [
    "train_losses, val_losses = train_denoiser(\n",
    "    model, device, crit, opt, train_loader, val_loader\n",
    ")"
   ]
  },
  {
   "cell_type": "code",
   "execution_count": null,
   "id": "410f75e3-2583-490f-a768-0c46dd20715d",
   "metadata": {
    "colab": {
     "base_uri": "https://localhost:8080/",
     "height": 228
    },
    "executionInfo": {
     "elapsed": 28,
     "status": "error",
     "timestamp": 1748474031129,
     "user": {
      "displayName": "Jian Rong Lee",
      "userId": "00154049140313558990"
     },
     "user_tz": -120
    },
    "id": "410f75e3-2583-490f-a768-0c46dd20715d",
    "outputId": "e5d8acfc-dd28-43eb-bbb2-fd95b5fc6b7d"
   },
   "outputs": [
    {
     "ename": "NameError",
     "evalue": "name 'train_losses' is not defined",
     "output_type": "error",
     "traceback": [
      "\u001b[0;31m---------------------------------------------------------------------------\u001b[0m",
      "\u001b[0;31mNameError\u001b[0m                                 Traceback (most recent call last)",
      "\u001b[0;32m<ipython-input-20-4cc76ad605e4>\u001b[0m in \u001b[0;36m<cell line: 0>\u001b[0;34m()\u001b[0m\n\u001b[1;32m      1\u001b[0m \u001b[0mplt\u001b[0m\u001b[0;34m.\u001b[0m\u001b[0mfigure\u001b[0m\u001b[0;34m(\u001b[0m\u001b[0;34m)\u001b[0m\u001b[0;34m\u001b[0m\u001b[0;34m\u001b[0m\u001b[0m\n\u001b[0;32m----> 2\u001b[0;31m \u001b[0mplt\u001b[0m\u001b[0;34m.\u001b[0m\u001b[0mplot\u001b[0m\u001b[0;34m(\u001b[0m\u001b[0mtrain_losses\u001b[0m\u001b[0;34m,\u001b[0m \u001b[0mlabel\u001b[0m\u001b[0;34m=\u001b[0m\u001b[0;34m\"Training Loss\"\u001b[0m\u001b[0;34m,\u001b[0m \u001b[0mmarker\u001b[0m\u001b[0;34m=\u001b[0m\u001b[0;34m\"o\"\u001b[0m\u001b[0;34m)\u001b[0m\u001b[0;34m\u001b[0m\u001b[0;34m\u001b[0m\u001b[0m\n\u001b[0m\u001b[1;32m      3\u001b[0m \u001b[0mplt\u001b[0m\u001b[0;34m.\u001b[0m\u001b[0mplot\u001b[0m\u001b[0;34m(\u001b[0m\u001b[0mval_losses\u001b[0m\u001b[0;34m,\u001b[0m \u001b[0mlabel\u001b[0m\u001b[0;34m=\u001b[0m\u001b[0;34m\"Validation Loss\"\u001b[0m\u001b[0;34m,\u001b[0m \u001b[0mmarker\u001b[0m\u001b[0;34m=\u001b[0m\u001b[0;34m\"x\"\u001b[0m\u001b[0;34m)\u001b[0m\u001b[0;34m\u001b[0m\u001b[0;34m\u001b[0m\u001b[0m\n\u001b[1;32m      4\u001b[0m \u001b[0mplt\u001b[0m\u001b[0;34m.\u001b[0m\u001b[0mxlabel\u001b[0m\u001b[0;34m(\u001b[0m\u001b[0;34m\"Epochs\"\u001b[0m\u001b[0;34m)\u001b[0m\u001b[0;34m\u001b[0m\u001b[0;34m\u001b[0m\u001b[0m\n\u001b[1;32m      5\u001b[0m \u001b[0mplt\u001b[0m\u001b[0;34m.\u001b[0m\u001b[0mylabel\u001b[0m\u001b[0;34m(\u001b[0m\u001b[0;34m\"Loss\"\u001b[0m\u001b[0;34m)\u001b[0m\u001b[0;34m\u001b[0m\u001b[0;34m\u001b[0m\u001b[0m\n",
      "\u001b[0;31mNameError\u001b[0m: name 'train_losses' is not defined"
     ]
    },
    {
     "data": {
      "text/plain": [
       "<Figure size 640x480 with 0 Axes>"
      ]
     },
     "metadata": {},
     "output_type": "display_data"
    }
   ],
   "source": [
    "plt.figure()\n",
    "plt.plot(train_losses, label=\"Training Loss\", marker=\"o\")\n",
    "plt.plot(val_losses, label=\"Validation Loss\", marker=\"x\")\n",
    "plt.xlabel(\"Epochs\")\n",
    "plt.ylabel(\"Loss\")\n",
    "plt.title(\"Loss Curves for Denoising Model\")\n",
    "plt.grid()\n",
    "plt.legend()\n",
    "plt.show()"
   ]
  },
  {
   "cell_type": "markdown",
   "id": "i7nd5qeZGFP1",
   "metadata": {
    "id": "i7nd5qeZGFP1"
   },
   "source": [
    "## Saving the Model"
   ]
  },
  {
   "cell_type": "code",
   "execution_count": null,
   "id": "E98KngtfGBVn",
   "metadata": {
    "id": "E98KngtfGBVn"
   },
   "outputs": [],
   "source": [
    "from datetime import datetime\n",
    "import json"
   ]
  },
  {
   "cell_type": "code",
   "execution_count": null,
   "id": "AqLnEkVsGKC4",
   "metadata": {
    "id": "AqLnEkVsGKC4"
   },
   "outputs": [],
   "source": [
    "results_folder = \"drive/MyDrive/machine_learning/FYPTinyDiffusion/results\"\n",
    "current_datetime = datetime.now()\n",
    "formatted_datetime = current_datetime.strftime(\"%d%b_%H%M\")\n",
    "CKPT_PATH = f\"{results_folder}/cifar_denoiser_{formatted_datetime}.pt\""
   ]
  },
  {
   "cell_type": "code",
   "execution_count": null,
   "id": "Dc22tiVfGOh4",
   "metadata": {
    "colab": {
     "base_uri": "https://localhost:8080/"
    },
    "executionInfo": {
     "elapsed": 383,
     "status": "ok",
     "timestamp": 1748474036969,
     "user": {
      "displayName": "Jian Rong Lee",
      "userId": "00154049140313558990"
     },
     "user_tz": -120
    },
    "id": "Dc22tiVfGOh4",
    "outputId": "a8a569ec-8a29-4407-f6fb-6f13f5131972"
   },
   "outputs": [
    {
     "name": "stdout",
     "output_type": "stream",
     "text": [
      "✓ checkpoint written to drive/MyDrive/machine_learning/FYPTinyDiffusion/results/cifar_denoiser_28May_2313.pt\n"
     ]
    }
   ],
   "source": [
    "model.eval()\n",
    "\n",
    "# init_params is assumed to be a dict you created when instantiating the model\n",
    "torch.save({\"model_state_dict\": model.state_dict(),\n",
    "            \"init_params\": init_params},\n",
    "           CKPT_PATH)\n",
    "print(f\"✓ checkpoint written to {CKPT_PATH}\")"
   ]
  },
  {
   "cell_type": "markdown",
   "id": "qm89C8UBIFMX",
   "metadata": {
    "id": "qm89C8UBIFMX"
   },
   "source": [
    "## Evaluate the Model"
   ]
  },
  {
   "cell_type": "code",
   "execution_count": 7,
   "id": "gQ2LUwsdRD8-",
   "metadata": {
    "executionInfo": {
     "elapsed": 5158,
     "status": "ok",
     "timestamp": 1748640171196,
     "user": {
      "displayName": "Jian Rong Lee",
      "userId": "00154049140313558990"
     },
     "user_tz": -120
    },
    "id": "gQ2LUwsdRD8-"
   },
   "outputs": [],
   "source": [
    "import torch, random, matplotlib.pyplot as plt\n",
    "from torch.utils.data import DataLoader\n",
    "from torchvision import datasets, transforms\n",
    "from torchvision.utils import make_grid\n",
    "from torchvision.transforms.functional import to_pil_image\n",
    "from unet import UNet"
   ]
  },
  {
   "cell_type": "code",
   "execution_count": 66,
   "id": "0XVb6KRKRD5g",
   "metadata": {
    "executionInfo": {
     "elapsed": 7,
     "status": "ok",
     "timestamp": 1748642365043,
     "user": {
      "displayName": "Jian Rong Lee",
      "userId": "00154049140313558990"
     },
     "user_tz": -120
    },
    "id": "0XVb6KRKRD5g"
   },
   "outputs": [],
   "source": [
    "results_folder = \"drive/MyDrive/machine_learning/FYPTinyDiffusion/results\"\n",
    "model_name = \"cifar_large_unet_28May_2313\""
   ]
  },
  {
   "cell_type": "code",
   "execution_count": null,
   "id": "ML13jSJGNL81",
   "metadata": {
    "id": "ML13jSJGNL81"
   },
   "outputs": [],
   "source": [
    "CKPT_PATH = f\"{results_folder}/{model_name}.pt\"\n",
    "T_STEPS    = 1_000\n",
    "BATCH      = 256\n",
    "NUM_WORKER = 4\n",
    "device     = torch.device(\"cuda\" if torch.cuda.is_available() else \"cpu\")"
   ]
  },
  {
   "cell_type": "code",
   "execution_count": 9,
   "id": "H75to2tECf6S",
   "metadata": {
    "colab": {
     "base_uri": "https://localhost:8080/"
    },
    "executionInfo": {
     "elapsed": 11321,
     "status": "ok",
     "timestamp": 1748640182572,
     "user": {
      "displayName": "Jian Rong Lee",
      "userId": "00154049140313558990"
     },
     "user_tz": -120
    },
    "id": "H75to2tECf6S",
    "outputId": "6257d107-c325-4083-acf8-a7e1eb715fdf"
   },
   "outputs": [
    {
     "name": "stdout",
     "output_type": "stream",
     "text": [
      "✓ model loaded\n"
     ]
    }
   ],
   "source": [
    "# restore model + its init params\n",
    "ckpt  = torch.load(CKPT_PATH, map_location=device)\n",
    "model = UNet(**ckpt[\"init_params\"][\"UNet\"]).to(device)\n",
    "model.load_state_dict(ckpt[\"model_state_dict\"])\n",
    "model.eval()\n",
    "print(\"✓ model loaded\")"
   ]
  },
  {
   "cell_type": "code",
   "execution_count": 10,
   "id": "s5FAn5bqCgou",
   "metadata": {
    "colab": {
     "base_uri": "https://localhost:8080/"
    },
    "executionInfo": {
     "elapsed": 22134,
     "status": "ok",
     "timestamp": 1748640204711,
     "user": {
      "displayName": "Jian Rong Lee",
      "userId": "00154049140313558990"
     },
     "user_tz": -120
    },
    "id": "s5FAn5bqCgou",
    "outputId": "c613a639-2be0-4610-8c25-bd148d4fd613"
   },
   "outputs": [
    {
     "name": "stderr",
     "output_type": "stream",
     "text": [
      "100%|██████████| 170M/170M [00:18<00:00, 9.28MB/s]\n"
     ]
    }
   ],
   "source": [
    "test_set = datasets.CIFAR10(\n",
    "    root=\"./data\", train=False, download=True,\n",
    "    transform=transforms.ToTensor()\n",
    ")\n",
    "test_loader = DataLoader(\n",
    "    test_set, batch_size=BATCH, shuffle=False,\n",
    "    num_workers=NUM_WORKER, pin_memory=True\n",
    ")"
   ]
  },
  {
   "cell_type": "code",
   "execution_count": 13,
   "id": "w8ZdzEupE7fu",
   "metadata": {
    "executionInfo": {
     "elapsed": 7,
     "status": "ok",
     "timestamp": 1748640324060,
     "user": {
      "displayName": "Jian Rong Lee",
      "userId": "00154049140313558990"
     },
     "user_tz": -120
    },
    "id": "w8ZdzEupE7fu"
   },
   "outputs": [],
   "source": [
    "import torch\n",
    "import torch.nn.functional as F\n",
    "from torch import nn\n",
    "\n",
    "def calculate_psnr(pred: torch.Tensor, clean: torch.Tensor, max_val: float = 1.0) -> torch.Tensor:\n",
    "    \"\"\"\n",
    "    Calculate PSNR between predicted and clean images.\n",
    "\n",
    "    Args:\n",
    "        pred (torch.Tensor): Predicted images of shape (B, C, H, W).\n",
    "        clean (torch.Tensor): Ground truth images of shape (B, C, H, W).\n",
    "        max_val (float): Maximum possible pixel value (e.g., 1.0 for normalized, 255 for 8-bit).\n",
    "\n",
    "    Returns:\n",
    "        torch.Tensor: PSNR value averaged over the batch.\n",
    "    \"\"\"\n",
    "    mse = F.mse_loss(pred, clean, reduction='none')\n",
    "    mse_per_image = mse.view(mse.shape[0], -1).mean(dim=1)  # Mean per image in batch\n",
    "\n",
    "    # Avoid division by zero\n",
    "    psnr = 10 * torch.log10((max_val ** 2) / (mse_per_image + 1e-8))\n",
    "\n",
    "    return psnr.mean()  # Return average PSNR over the batch\n"
   ]
  },
  {
   "cell_type": "code",
   "execution_count": 14,
   "id": "asRhYotwFaOd",
   "metadata": {
    "executionInfo": {
     "elapsed": 4,
     "status": "ok",
     "timestamp": 1748640325042,
     "user": {
      "displayName": "Jian Rong Lee",
      "userId": "00154049140313558990"
     },
     "user_tz": -120
    },
    "id": "asRhYotwFaOd"
   },
   "outputs": [],
   "source": [
    "def gaussian_window(window_size: int, sigma: float, channels: int) -> torch.Tensor:\n",
    "    coords = torch.arange(window_size).float() - window_size // 2\n",
    "    g = torch.exp(-(coords ** 2) / (2 * sigma ** 2))\n",
    "    g = g / g.sum()\n",
    "    window_1d = g.unsqueeze(0)\n",
    "    window_2d = (window_1d.T @ window_1d).unsqueeze(0).unsqueeze(0)\n",
    "    window = window_2d.expand(channels, 1, window_size, window_size).contiguous()\n",
    "    return window\n",
    "\n",
    "def calculate_ssim(pred: torch.Tensor, clean: torch.Tensor, window_size: int = 11, sigma: float = 1.5, max_val: float = 1.0) -> torch.Tensor:\n",
    "    \"\"\"\n",
    "    Calculate SSIM between predicted and clean images.\n",
    "\n",
    "    Args:\n",
    "        pred (torch.Tensor): Predicted images of shape (B, C, H, W).\n",
    "        clean (torch.Tensor): Ground truth images of shape (B, C, H, W).\n",
    "        window_size (int): Size of the Gaussian window.\n",
    "        sigma (float): Standard deviation of the Gaussian window.\n",
    "        max_val (float): Maximum possible pixel value (e.g., 1.0 for normalized, 255 for 8-bit).\n",
    "\n",
    "    Returns:\n",
    "        torch.Tensor: SSIM value averaged over the batch.\n",
    "    \"\"\"\n",
    "    C1 = (0.01 * max_val) ** 2\n",
    "    C2 = (0.03 * max_val) ** 2\n",
    "\n",
    "    _, channels, _, _ = pred.size()\n",
    "    window = gaussian_window(window_size, sigma, channels).to(pred.device)\n",
    "\n",
    "    mu1 = F.conv2d(pred, window, padding=window_size // 2, groups=channels)\n",
    "    mu2 = F.conv2d(clean, window, padding=window_size // 2, groups=channels)\n",
    "\n",
    "    mu1_sq = mu1 ** 2\n",
    "    mu2_sq = mu2 ** 2\n",
    "    mu1_mu2 = mu1 * mu2\n",
    "\n",
    "    sigma1_sq = F.conv2d(pred * pred, window, padding=window_size // 2, groups=channels) - mu1_sq\n",
    "    sigma2_sq = F.conv2d(clean * clean, window, padding=window_size // 2, groups=channels) - mu2_sq\n",
    "    sigma12 = F.conv2d(pred * clean, window, padding=window_size // 2, groups=channels) - mu1_mu2\n",
    "\n",
    "    ssim_map = ((2 * mu1_mu2 + C1) * (2 * sigma12 + C2)) / \\\n",
    "               ((mu1_sq + mu2_sq + C1) * (sigma1_sq + sigma2_sq + C2))\n",
    "\n",
    "    return ssim_map.mean()\n"
   ]
  },
  {
   "cell_type": "code",
   "execution_count": 41,
   "id": "LZ1q7L1LJ0S-",
   "metadata": {
    "executionInfo": {
     "elapsed": 3,
     "status": "ok",
     "timestamp": 1748641559562,
     "user": {
      "displayName": "Jian Rong Lee",
      "userId": "00154049140313558990"
     },
     "user_tz": -120
    },
    "id": "LZ1q7L1LJ0S-"
   },
   "outputs": [],
   "source": [
    "def calculate_mse(pred: torch.Tensor, clean: torch.Tensor) -> torch.Tensor:\n",
    "    \"\"\"\n",
    "    Calculate Mean Squared Error (MSE) between predicted and clean images.\n",
    "\n",
    "    Args:\n",
    "        pred (torch.Tensor): Predicted images of shape (B, C, H, W).\n",
    "        clean (torch.Tensor): Ground truth images of shape (B, C, H, W).\n",
    "\n",
    "    Returns:\n",
    "        torch.Tensor: MSE value averaged over the batch.\n",
    "    \"\"\"\n",
    "    return torch.mean((pred - clean) ** 2)\n"
   ]
  },
  {
   "cell_type": "code",
   "execution_count": 42,
   "id": "pIt6r21QRD1J",
   "metadata": {
    "executionInfo": {
     "elapsed": 3,
     "status": "ok",
     "timestamp": 1748641560379,
     "user": {
      "displayName": "Jian Rong Lee",
      "userId": "00154049140313558990"
     },
     "user_tz": -120
    },
    "id": "pIt6r21QRD1J"
   },
   "outputs": [],
   "source": [
    "LEVELS = [0, 50, 100, 250, 500, 750, 999]        # diffusion steps to test\n",
    "sigmas = [sigmoid_noise_level(torch.tensor(t), T_STEPS).sqrt().item()\n",
    "          for t in LEVELS]"
   ]
  },
  {
   "cell_type": "code",
   "execution_count": 43,
   "id": "9yoWeZ_RROfJ",
   "metadata": {
    "executionInfo": {
     "elapsed": 2,
     "status": "ok",
     "timestamp": 1748641561390,
     "user": {
      "displayName": "Jian Rong Lee",
      "userId": "00154049140313558990"
     },
     "user_tz": -120
    },
    "id": "9yoWeZ_RROfJ"
   },
   "outputs": [],
   "source": [
    "def eval_level(t_step: int):\n",
    "    sigma = sigmoid_noise_level(torch.tensor(t_step), T_STEPS).sqrt()\n",
    "    psnr_sum, ssim_sum, mse_sum, n_img = 0.0, 0.0, 0.0, 0\n",
    "\n",
    "    with torch.no_grad():\n",
    "        for clean, _ in test_loader:\n",
    "            clean = clean.to(device)\n",
    "            noisy = torch.clamp(clean + torch.randn_like(clean) * sigma, 0., 1.)\n",
    "\n",
    "            pred  = model(noisy,\n",
    "                          torch.full((noisy.size(0),), t_step,\n",
    "                                     dtype=torch.long, device=device))\n",
    "\n",
    "            psnr_sum += calculate_psnr(pred, clean).item()\n",
    "            ssim_sum += calculate_ssim(pred, clean).item()\n",
    "            mse_sum = calculate_mse(pred, clean).item()\n",
    "\n",
    "        psnr_mean = psnr_sum / len(test_loader)\n",
    "        ssim_mean = ssim_sum / len(test_loader)\n",
    "        mse_mean = mse_sum / len(test_loader)\n",
    "\n",
    "    return psnr_mean, ssim_mean, mse_mean"
   ]
  },
  {
   "cell_type": "code",
   "execution_count": 48,
   "id": "NJ5mzX9VRP5J",
   "metadata": {
    "colab": {
     "base_uri": "https://localhost:8080/"
    },
    "executionInfo": {
     "elapsed": 83198,
     "status": "ok",
     "timestamp": 1748641843466,
     "user": {
      "displayName": "Jian Rong Lee",
      "userId": "00154049140313558990"
     },
     "user_tz": -120
    },
    "id": "NJ5mzX9VRP5J",
    "outputId": "8a407a78-3497-4fab-aa6b-f1748c1a5f58"
   },
   "outputs": [
    {
     "name": "stdout",
     "output_type": "stream",
     "text": [
      "t=   0 | σ=0.050 | PSNR 30.81 dB | SSIM 0.9625 | MSE 0.0000\n",
      "t=  50 | σ=0.067 | PSNR 29.64 dB | SSIM 0.9521 | MSE 0.0000\n",
      "t= 100 | σ=0.090 | PSNR 28.43 dB | SSIM 0.9371 | MSE 0.0000\n",
      "t= 250 | σ=0.218 | PSNR 24.50 dB | SSIM 0.8611 | MSE 0.0001\n",
      "t= 500 | σ=0.707 | PSNR 19.37 dB | SSIM 0.6634 | MSE 0.0003\n",
      "t= 750 | σ=0.976 | PSNR 18.15 dB | SSIM 0.6008 | MSE 0.0004\n",
      "t= 999 | σ=0.999 | PSNR 18.07 dB | SSIM 0.5975 | MSE 0.0005\n"
     ]
    }
   ],
   "source": [
    "# 4.  EVALUATE & PRINT\n",
    "\n",
    "metric_names_vals = {\n",
    "    \"t\": LEVELS,\n",
    "    \"sigma\": sigmas,\n",
    "    \"PSNR\": [],\n",
    "    \"SSIM\": [],\n",
    "    \"MSE\": [],\n",
    "}\n",
    "\n",
    "for t, σ in zip(LEVELS, sigmas):\n",
    "    p, s, mse = eval_level(t)\n",
    "    metric_names_vals[\"PSNR\"].append(p)\n",
    "    metric_names_vals[\"SSIM\"].append(s)\n",
    "    metric_names_vals[\"MSE\"].append(mse)\n",
    "    print(f\"t={t:4d} | σ={σ:.3f} | PSNR {p:.2f} dB | SSIM {s:.4f} | MSE {mse:.4f}\")"
   ]
  },
  {
   "cell_type": "code",
   "execution_count": 49,
   "id": "iRUWZeRYKhJa",
   "metadata": {
    "executionInfo": {
     "elapsed": 80,
     "status": "ok",
     "timestamp": 1748641843498,
     "user": {
      "displayName": "Jian Rong Lee",
      "userId": "00154049140313558990"
     },
     "user_tz": -120
    },
    "id": "iRUWZeRYKhJa"
   },
   "outputs": [],
   "source": [
    "import pandas as pd"
   ]
  },
  {
   "cell_type": "code",
   "execution_count": 50,
   "id": "F9Jocxs7KkUo",
   "metadata": {
    "colab": {
     "base_uri": "https://localhost:8080/",
     "height": 269
    },
    "executionInfo": {
     "elapsed": 118,
     "status": "ok",
     "timestamp": 1748641843618,
     "user": {
      "displayName": "Jian Rong Lee",
      "userId": "00154049140313558990"
     },
     "user_tz": -120
    },
    "id": "F9Jocxs7KkUo",
    "outputId": "7e2694e7-61b9-4be2-9c33-2af5ca24fcc5"
   },
   "outputs": [
    {
     "data": {
      "application/vnd.google.colaboratory.intrinsic+json": {
       "summary": "{\n  \"name\": \"df\",\n  \"rows\": 7,\n  \"fields\": [\n    {\n      \"column\": \"t\",\n      \"properties\": {\n        \"dtype\": \"number\",\n        \"std\": 383,\n        \"min\": 0,\n        \"max\": 999,\n        \"num_unique_values\": 7,\n        \"samples\": [\n          0,\n          50,\n          750\n        ],\n        \"semantic_type\": \"\",\n        \"description\": \"\"\n      }\n    },\n    {\n      \"column\": \"sigma\",\n      \"properties\": {\n        \"dtype\": \"number\",\n        \"std\": 0.4346995345864751,\n        \"min\": 0.049725476652383804,\n        \"max\": 0.9987480044364929,\n        \"num_unique_values\": 7,\n        \"samples\": [\n          0.049725476652383804,\n          0.06705424934625626,\n          0.9759990572929382\n        ],\n        \"semantic_type\": \"\",\n        \"description\": \"\"\n      }\n    },\n    {\n      \"column\": \"PSNR\",\n      \"properties\": {\n        \"dtype\": \"number\",\n        \"std\": 5.6082401182671155,\n        \"min\": 18.070063734054564,\n        \"max\": 30.808128309249877,\n        \"num_unique_values\": 7,\n        \"samples\": [\n          30.808128309249877,\n          29.642378664016725,\n          18.150159883499146\n        ],\n        \"semantic_type\": \"\",\n        \"description\": \"\"\n      }\n    },\n    {\n      \"column\": \"SSIM\",\n      \"properties\": {\n        \"dtype\": \"number\",\n        \"std\": 0.168983406074163,\n        \"min\": 0.5974905714392662,\n        \"max\": 0.9624973073601722,\n        \"num_unique_values\": 7,\n        \"samples\": [\n          0.9624973073601722,\n          0.9521452739834786,\n          0.6008313879370689\n        ],\n        \"semantic_type\": \"\",\n        \"description\": \"\"\n      }\n    },\n    {\n      \"column\": \"MSE\",\n      \"properties\": {\n        \"dtype\": \"number\",\n        \"std\": 0.0002078721297934258,\n        \"min\": 2.151282242266461e-05,\n        \"max\": 0.00048336721956729887,\n        \"num_unique_values\": 7,\n        \"samples\": [\n          2.151282242266461e-05,\n          2.838140935637057e-05,\n          0.0004495264496654272\n        ],\n        \"semantic_type\": \"\",\n        \"description\": \"\"\n      }\n    }\n  ]\n}",
       "type": "dataframe",
       "variable_name": "df"
      },
      "text/html": [
       "\n",
       "  <div id=\"df-4ceb2dd7-9c8b-40e6-9f9e-5652085d22b2\" class=\"colab-df-container\">\n",
       "    <div>\n",
       "<style scoped>\n",
       "    .dataframe tbody tr th:only-of-type {\n",
       "        vertical-align: middle;\n",
       "    }\n",
       "\n",
       "    .dataframe tbody tr th {\n",
       "        vertical-align: top;\n",
       "    }\n",
       "\n",
       "    .dataframe thead th {\n",
       "        text-align: right;\n",
       "    }\n",
       "</style>\n",
       "<table border=\"1\" class=\"dataframe\">\n",
       "  <thead>\n",
       "    <tr style=\"text-align: right;\">\n",
       "      <th></th>\n",
       "      <th>t</th>\n",
       "      <th>sigma</th>\n",
       "      <th>PSNR</th>\n",
       "      <th>SSIM</th>\n",
       "      <th>MSE</th>\n",
       "    </tr>\n",
       "  </thead>\n",
       "  <tbody>\n",
       "    <tr>\n",
       "      <th>0</th>\n",
       "      <td>0</td>\n",
       "      <td>0.049725</td>\n",
       "      <td>30.808128</td>\n",
       "      <td>0.962497</td>\n",
       "      <td>0.000022</td>\n",
       "    </tr>\n",
       "    <tr>\n",
       "      <th>1</th>\n",
       "      <td>50</td>\n",
       "      <td>0.067054</td>\n",
       "      <td>29.642379</td>\n",
       "      <td>0.952145</td>\n",
       "      <td>0.000028</td>\n",
       "    </tr>\n",
       "    <tr>\n",
       "      <th>2</th>\n",
       "      <td>100</td>\n",
       "      <td>0.090347</td>\n",
       "      <td>28.426303</td>\n",
       "      <td>0.937148</td>\n",
       "      <td>0.000037</td>\n",
       "    </tr>\n",
       "    <tr>\n",
       "      <th>3</th>\n",
       "      <td>250</td>\n",
       "      <td>0.217775</td>\n",
       "      <td>24.496949</td>\n",
       "      <td>0.861092</td>\n",
       "      <td>0.000095</td>\n",
       "    </tr>\n",
       "    <tr>\n",
       "      <th>4</th>\n",
       "      <td>500</td>\n",
       "      <td>0.707107</td>\n",
       "      <td>19.370099</td>\n",
       "      <td>0.663433</td>\n",
       "      <td>0.000335</td>\n",
       "    </tr>\n",
       "    <tr>\n",
       "      <th>5</th>\n",
       "      <td>750</td>\n",
       "      <td>0.975999</td>\n",
       "      <td>18.150160</td>\n",
       "      <td>0.600831</td>\n",
       "      <td>0.000450</td>\n",
       "    </tr>\n",
       "    <tr>\n",
       "      <th>6</th>\n",
       "      <td>999</td>\n",
       "      <td>0.998748</td>\n",
       "      <td>18.070064</td>\n",
       "      <td>0.597491</td>\n",
       "      <td>0.000483</td>\n",
       "    </tr>\n",
       "  </tbody>\n",
       "</table>\n",
       "</div>\n",
       "    <div class=\"colab-df-buttons\">\n",
       "\n",
       "  <div class=\"colab-df-container\">\n",
       "    <button class=\"colab-df-convert\" onclick=\"convertToInteractive('df-4ceb2dd7-9c8b-40e6-9f9e-5652085d22b2')\"\n",
       "            title=\"Convert this dataframe to an interactive table.\"\n",
       "            style=\"display:none;\">\n",
       "\n",
       "  <svg xmlns=\"http://www.w3.org/2000/svg\" height=\"24px\" viewBox=\"0 -960 960 960\">\n",
       "    <path d=\"M120-120v-720h720v720H120Zm60-500h600v-160H180v160Zm220 220h160v-160H400v160Zm0 220h160v-160H400v160ZM180-400h160v-160H180v160Zm440 0h160v-160H620v160ZM180-180h160v-160H180v160Zm440 0h160v-160H620v160Z\"/>\n",
       "  </svg>\n",
       "    </button>\n",
       "\n",
       "  <style>\n",
       "    .colab-df-container {\n",
       "      display:flex;\n",
       "      gap: 12px;\n",
       "    }\n",
       "\n",
       "    .colab-df-convert {\n",
       "      background-color: #E8F0FE;\n",
       "      border: none;\n",
       "      border-radius: 50%;\n",
       "      cursor: pointer;\n",
       "      display: none;\n",
       "      fill: #1967D2;\n",
       "      height: 32px;\n",
       "      padding: 0 0 0 0;\n",
       "      width: 32px;\n",
       "    }\n",
       "\n",
       "    .colab-df-convert:hover {\n",
       "      background-color: #E2EBFA;\n",
       "      box-shadow: 0px 1px 2px rgba(60, 64, 67, 0.3), 0px 1px 3px 1px rgba(60, 64, 67, 0.15);\n",
       "      fill: #174EA6;\n",
       "    }\n",
       "\n",
       "    .colab-df-buttons div {\n",
       "      margin-bottom: 4px;\n",
       "    }\n",
       "\n",
       "    [theme=dark] .colab-df-convert {\n",
       "      background-color: #3B4455;\n",
       "      fill: #D2E3FC;\n",
       "    }\n",
       "\n",
       "    [theme=dark] .colab-df-convert:hover {\n",
       "      background-color: #434B5C;\n",
       "      box-shadow: 0px 1px 3px 1px rgba(0, 0, 0, 0.15);\n",
       "      filter: drop-shadow(0px 1px 2px rgba(0, 0, 0, 0.3));\n",
       "      fill: #FFFFFF;\n",
       "    }\n",
       "  </style>\n",
       "\n",
       "    <script>\n",
       "      const buttonEl =\n",
       "        document.querySelector('#df-4ceb2dd7-9c8b-40e6-9f9e-5652085d22b2 button.colab-df-convert');\n",
       "      buttonEl.style.display =\n",
       "        google.colab.kernel.accessAllowed ? 'block' : 'none';\n",
       "\n",
       "      async function convertToInteractive(key) {\n",
       "        const element = document.querySelector('#df-4ceb2dd7-9c8b-40e6-9f9e-5652085d22b2');\n",
       "        const dataTable =\n",
       "          await google.colab.kernel.invokeFunction('convertToInteractive',\n",
       "                                                    [key], {});\n",
       "        if (!dataTable) return;\n",
       "\n",
       "        const docLinkHtml = 'Like what you see? Visit the ' +\n",
       "          '<a target=\"_blank\" href=https://colab.research.google.com/notebooks/data_table.ipynb>data table notebook</a>'\n",
       "          + ' to learn more about interactive tables.';\n",
       "        element.innerHTML = '';\n",
       "        dataTable['output_type'] = 'display_data';\n",
       "        await google.colab.output.renderOutput(dataTable, element);\n",
       "        const docLink = document.createElement('div');\n",
       "        docLink.innerHTML = docLinkHtml;\n",
       "        element.appendChild(docLink);\n",
       "      }\n",
       "    </script>\n",
       "  </div>\n",
       "\n",
       "\n",
       "    <div id=\"df-9a99bf95-db7a-44dc-8204-791b824ceede\">\n",
       "      <button class=\"colab-df-quickchart\" onclick=\"quickchart('df-9a99bf95-db7a-44dc-8204-791b824ceede')\"\n",
       "                title=\"Suggest charts\"\n",
       "                style=\"display:none;\">\n",
       "\n",
       "<svg xmlns=\"http://www.w3.org/2000/svg\" height=\"24px\"viewBox=\"0 0 24 24\"\n",
       "     width=\"24px\">\n",
       "    <g>\n",
       "        <path d=\"M19 3H5c-1.1 0-2 .9-2 2v14c0 1.1.9 2 2 2h14c1.1 0 2-.9 2-2V5c0-1.1-.9-2-2-2zM9 17H7v-7h2v7zm4 0h-2V7h2v10zm4 0h-2v-4h2v4z\"/>\n",
       "    </g>\n",
       "</svg>\n",
       "      </button>\n",
       "\n",
       "<style>\n",
       "  .colab-df-quickchart {\n",
       "      --bg-color: #E8F0FE;\n",
       "      --fill-color: #1967D2;\n",
       "      --hover-bg-color: #E2EBFA;\n",
       "      --hover-fill-color: #174EA6;\n",
       "      --disabled-fill-color: #AAA;\n",
       "      --disabled-bg-color: #DDD;\n",
       "  }\n",
       "\n",
       "  [theme=dark] .colab-df-quickchart {\n",
       "      --bg-color: #3B4455;\n",
       "      --fill-color: #D2E3FC;\n",
       "      --hover-bg-color: #434B5C;\n",
       "      --hover-fill-color: #FFFFFF;\n",
       "      --disabled-bg-color: #3B4455;\n",
       "      --disabled-fill-color: #666;\n",
       "  }\n",
       "\n",
       "  .colab-df-quickchart {\n",
       "    background-color: var(--bg-color);\n",
       "    border: none;\n",
       "    border-radius: 50%;\n",
       "    cursor: pointer;\n",
       "    display: none;\n",
       "    fill: var(--fill-color);\n",
       "    height: 32px;\n",
       "    padding: 0;\n",
       "    width: 32px;\n",
       "  }\n",
       "\n",
       "  .colab-df-quickchart:hover {\n",
       "    background-color: var(--hover-bg-color);\n",
       "    box-shadow: 0 1px 2px rgba(60, 64, 67, 0.3), 0 1px 3px 1px rgba(60, 64, 67, 0.15);\n",
       "    fill: var(--button-hover-fill-color);\n",
       "  }\n",
       "\n",
       "  .colab-df-quickchart-complete:disabled,\n",
       "  .colab-df-quickchart-complete:disabled:hover {\n",
       "    background-color: var(--disabled-bg-color);\n",
       "    fill: var(--disabled-fill-color);\n",
       "    box-shadow: none;\n",
       "  }\n",
       "\n",
       "  .colab-df-spinner {\n",
       "    border: 2px solid var(--fill-color);\n",
       "    border-color: transparent;\n",
       "    border-bottom-color: var(--fill-color);\n",
       "    animation:\n",
       "      spin 1s steps(1) infinite;\n",
       "  }\n",
       "\n",
       "  @keyframes spin {\n",
       "    0% {\n",
       "      border-color: transparent;\n",
       "      border-bottom-color: var(--fill-color);\n",
       "      border-left-color: var(--fill-color);\n",
       "    }\n",
       "    20% {\n",
       "      border-color: transparent;\n",
       "      border-left-color: var(--fill-color);\n",
       "      border-top-color: var(--fill-color);\n",
       "    }\n",
       "    30% {\n",
       "      border-color: transparent;\n",
       "      border-left-color: var(--fill-color);\n",
       "      border-top-color: var(--fill-color);\n",
       "      border-right-color: var(--fill-color);\n",
       "    }\n",
       "    40% {\n",
       "      border-color: transparent;\n",
       "      border-right-color: var(--fill-color);\n",
       "      border-top-color: var(--fill-color);\n",
       "    }\n",
       "    60% {\n",
       "      border-color: transparent;\n",
       "      border-right-color: var(--fill-color);\n",
       "    }\n",
       "    80% {\n",
       "      border-color: transparent;\n",
       "      border-right-color: var(--fill-color);\n",
       "      border-bottom-color: var(--fill-color);\n",
       "    }\n",
       "    90% {\n",
       "      border-color: transparent;\n",
       "      border-bottom-color: var(--fill-color);\n",
       "    }\n",
       "  }\n",
       "</style>\n",
       "\n",
       "      <script>\n",
       "        async function quickchart(key) {\n",
       "          const quickchartButtonEl =\n",
       "            document.querySelector('#' + key + ' button');\n",
       "          quickchartButtonEl.disabled = true;  // To prevent multiple clicks.\n",
       "          quickchartButtonEl.classList.add('colab-df-spinner');\n",
       "          try {\n",
       "            const charts = await google.colab.kernel.invokeFunction(\n",
       "                'suggestCharts', [key], {});\n",
       "          } catch (error) {\n",
       "            console.error('Error during call to suggestCharts:', error);\n",
       "          }\n",
       "          quickchartButtonEl.classList.remove('colab-df-spinner');\n",
       "          quickchartButtonEl.classList.add('colab-df-quickchart-complete');\n",
       "        }\n",
       "        (() => {\n",
       "          let quickchartButtonEl =\n",
       "            document.querySelector('#df-9a99bf95-db7a-44dc-8204-791b824ceede button');\n",
       "          quickchartButtonEl.style.display =\n",
       "            google.colab.kernel.accessAllowed ? 'block' : 'none';\n",
       "        })();\n",
       "      </script>\n",
       "    </div>\n",
       "\n",
       "  <div id=\"id_8e398e92-0810-4589-aabb-cf7b3e8cefa3\">\n",
       "    <style>\n",
       "      .colab-df-generate {\n",
       "        background-color: #E8F0FE;\n",
       "        border: none;\n",
       "        border-radius: 50%;\n",
       "        cursor: pointer;\n",
       "        display: none;\n",
       "        fill: #1967D2;\n",
       "        height: 32px;\n",
       "        padding: 0 0 0 0;\n",
       "        width: 32px;\n",
       "      }\n",
       "\n",
       "      .colab-df-generate:hover {\n",
       "        background-color: #E2EBFA;\n",
       "        box-shadow: 0px 1px 2px rgba(60, 64, 67, 0.3), 0px 1px 3px 1px rgba(60, 64, 67, 0.15);\n",
       "        fill: #174EA6;\n",
       "      }\n",
       "\n",
       "      [theme=dark] .colab-df-generate {\n",
       "        background-color: #3B4455;\n",
       "        fill: #D2E3FC;\n",
       "      }\n",
       "\n",
       "      [theme=dark] .colab-df-generate:hover {\n",
       "        background-color: #434B5C;\n",
       "        box-shadow: 0px 1px 3px 1px rgba(0, 0, 0, 0.15);\n",
       "        filter: drop-shadow(0px 1px 2px rgba(0, 0, 0, 0.3));\n",
       "        fill: #FFFFFF;\n",
       "      }\n",
       "    </style>\n",
       "    <button class=\"colab-df-generate\" onclick=\"generateWithVariable('df')\"\n",
       "            title=\"Generate code using this dataframe.\"\n",
       "            style=\"display:none;\">\n",
       "\n",
       "  <svg xmlns=\"http://www.w3.org/2000/svg\" height=\"24px\"viewBox=\"0 0 24 24\"\n",
       "       width=\"24px\">\n",
       "    <path d=\"M7,19H8.4L18.45,9,17,7.55,7,17.6ZM5,21V16.75L18.45,3.32a2,2,0,0,1,2.83,0l1.4,1.43a1.91,1.91,0,0,1,.58,1.4,1.91,1.91,0,0,1-.58,1.4L9.25,21ZM18.45,9,17,7.55Zm-12,3A5.31,5.31,0,0,0,4.9,8.1,5.31,5.31,0,0,0,1,6.5,5.31,5.31,0,0,0,4.9,4.9,5.31,5.31,0,0,0,6.5,1,5.31,5.31,0,0,0,8.1,4.9,5.31,5.31,0,0,0,12,6.5,5.46,5.46,0,0,0,6.5,12Z\"/>\n",
       "  </svg>\n",
       "    </button>\n",
       "    <script>\n",
       "      (() => {\n",
       "      const buttonEl =\n",
       "        document.querySelector('#id_8e398e92-0810-4589-aabb-cf7b3e8cefa3 button.colab-df-generate');\n",
       "      buttonEl.style.display =\n",
       "        google.colab.kernel.accessAllowed ? 'block' : 'none';\n",
       "\n",
       "      buttonEl.onclick = () => {\n",
       "        google.colab.notebook.generateWithVariable('df');\n",
       "      }\n",
       "      })();\n",
       "    </script>\n",
       "  </div>\n",
       "\n",
       "    </div>\n",
       "  </div>\n"
      ],
      "text/plain": [
       "     t     sigma       PSNR      SSIM       MSE\n",
       "0    0  0.049725  30.808128  0.962497  0.000022\n",
       "1   50  0.067054  29.642379  0.952145  0.000028\n",
       "2  100  0.090347  28.426303  0.937148  0.000037\n",
       "3  250  0.217775  24.496949  0.861092  0.000095\n",
       "4  500  0.707107  19.370099  0.663433  0.000335\n",
       "5  750  0.975999  18.150160  0.600831  0.000450\n",
       "6  999  0.998748  18.070064  0.597491  0.000483"
      ]
     },
     "execution_count": 50,
     "metadata": {},
     "output_type": "execute_result"
    }
   ],
   "source": [
    "df = pd.DataFrame.from_dict(metric_names_vals)\n",
    "df"
   ]
  },
  {
   "cell_type": "code",
   "execution_count": 67,
   "id": "MsNCMK1QM6cS",
   "metadata": {
    "colab": {
     "base_uri": "https://localhost:8080/"
    },
    "executionInfo": {
     "elapsed": 10,
     "status": "ok",
     "timestamp": 1748642389343,
     "user": {
      "displayName": "Jian Rong Lee",
      "userId": "00154049140313558990"
     },
     "user_tz": -120
    },
    "id": "MsNCMK1QM6cS",
    "outputId": "a2690e92-f529-4a8b-e7f1-2111faa1e1d7"
   },
   "outputs": [
    {
     "name": "stdout",
     "output_type": "stream",
     "text": [
      "drive/MyDrive/machine_learning/FYPTinyDiffusion/results\n",
      "cifar_large_unet_28May_2313\n"
     ]
    }
   ],
   "source": [
    "print(results_folder)\n",
    "print(model_name)"
   ]
  },
  {
   "cell_type": "code",
   "execution_count": 71,
   "id": "UpJsMakZMzhM",
   "metadata": {
    "colab": {
     "base_uri": "https://localhost:8080/"
    },
    "executionInfo": {
     "elapsed": 14,
     "status": "ok",
     "timestamp": 1748642454124,
     "user": {
      "displayName": "Jian Rong Lee",
      "userId": "00154049140313558990"
     },
     "user_tz": -120
    },
    "id": "UpJsMakZMzhM",
    "outputId": "a0de9b58-7fc2-40c3-bc87-41ca20c4d99d"
   },
   "outputs": [
    {
     "name": "stdout",
     "output_type": "stream",
     "text": [
      "metrics dataframe saved to\n",
      "drive/MyDrive/machine_learning/FYPTinyDiffusion/results/cifar_large_unet_28May_2313.csv\n"
     ]
    }
   ],
   "source": [
    "# save the df as a csv file\n",
    "csv_path = f\"{results_folder}/{model_name}.csv\"\n",
    "df.to_csv(csv_path, index=False)\n",
    "print(f\"metrics dataframe saved to\\n{csv_path}\")"
   ]
  },
  {
   "cell_type": "code",
   "execution_count": 62,
   "id": "3CqSTZV5L5xT",
   "metadata": {
    "executionInfo": {
     "elapsed": 23,
     "status": "ok",
     "timestamp": 1748642165123,
     "user": {
      "displayName": "Jian Rong Lee",
      "userId": "00154049140313558990"
     },
     "user_tz": -120
    },
    "id": "3CqSTZV5L5xT"
   },
   "outputs": [],
   "source": [
    "import matplotlib.pyplot as plt\n",
    "\n",
    "def plot_metrics_against_sigma(df):\n",
    "    \"\"\"\n",
    "    Plots PSNR, SSIM, and MSE against sigma in vertically stacked subplots.\n",
    "\n",
    "    Args:\n",
    "        df (pd.DataFrame): DataFrame with columns 'sigma', 'PSNR', 'SSIM', and 'MSE'.\n",
    "    \"\"\"\n",
    "    fig, axs = plt.subplots(3, 1, figsize=(7, 7), sharex=True)\n",
    "\n",
    "    # Plot PSNR\n",
    "    axs[0].plot(df['sigma'], df['PSNR'], marker='o')\n",
    "    axs[0].set_ylabel('PSNR (dB)')\n",
    "    axs[0].set_title('PSNR vs Sigma')\n",
    "    axs[0].grid(True)\n",
    "\n",
    "    # Plot SSIM\n",
    "    axs[1].plot(df['sigma'], df['SSIM'], marker='o')\n",
    "    axs[1].set_ylabel('SSIM')\n",
    "    axs[1].set_title('SSIM vs Sigma')\n",
    "    axs[1].grid(True)\n",
    "\n",
    "    # Plot MSE\n",
    "    axs[2].plot(df['sigma'], df['MSE'], marker='o')\n",
    "    axs[2].set_ylabel('MSE')\n",
    "    axs[2].set_title('MSE vs Sigma')\n",
    "    axs[2].set_xlabel('Sigma')\n",
    "    axs[2].grid(True)\n",
    "\n",
    "    plt.tight_layout()\n",
    "    plt.show()"
   ]
  },
  {
   "cell_type": "code",
   "execution_count": 63,
   "id": "HY28QIzfL86r",
   "metadata": {
    "colab": {
     "base_uri": "https://localhost:8080/",
     "height": 707
    },
    "executionInfo": {
     "elapsed": 183,
     "status": "ok",
     "timestamp": 1748642166375,
     "user": {
      "displayName": "Jian Rong Lee",
      "userId": "00154049140313558990"
     },
     "user_tz": -120
    },
    "id": "HY28QIzfL86r",
    "outputId": "107c8061-8d83-4bf7-939d-7e780405e818"
   },
   "outputs": [
    {
     "data": {
      "image/png": "[encoded data removed]",
      "text/plain": [
       "<Figure size 700x700 with 3 Axes>"
      ]
     },
     "metadata": {},
     "output_type": "display_data"
    }
   ],
   "source": [
    "plot_metrics_against_sigma(df)"
   ]
  },
  {
   "cell_type": "code",
   "execution_count": null,
   "id": "hA5yMESTRhe6",
   "metadata": {
    "colab": {
     "base_uri": "https://localhost:8080/",
     "height": 1000,
     "output_embedded_package_id": "1XnOmx8oEiC6JsPhaozVy9rAgfl7DhNWZ"
    },
    "executionInfo": {
     "elapsed": 2089,
     "status": "ok",
     "timestamp": 1748475737429,
     "user": {
      "displayName": "Jian Rong Lee",
      "userId": "00154049140313558990"
     },
     "user_tz": -120
    },
    "id": "hA5yMESTRhe6",
    "outputId": "3c75bb9e-e903-4fbd-813f-1ba7b4521403"
   },
   "outputs": [
    {
     "data": {
      "text/plain": [
       "Output hidden; open in https://colab.research.google.com to view."
      ]
     },
     "metadata": {},
     "output_type": "display_data"
    }
   ],
   "source": [
    "n_cols = 10                                       # images per row\n",
    "row_titles = [\"Noisy\", \"Denoised\", \"Clean\"]\n",
    "\n",
    "# choose n_cols random test indices once per run\n",
    "indices = random.sample(range(len(test_set)), n_cols)\n",
    "clean_subset = torch.stack([test_set[i][0] for i in indices]).to(device)\n",
    "\n",
    "with torch.no_grad():\n",
    "    for t, σ in zip(LEVELS, sigmas):\n",
    "        noisy  = torch.clamp(clean_subset + torch.randn_like(clean_subset) * σ, 0., 1.)\n",
    "        denoised = model(noisy,\n",
    "                         torch.full((n_cols,), t, dtype=torch.long, device=device))\n",
    "\n",
    "        # compose grid: row0=noisy, row1=denoised, row2=clean\n",
    "        grid = torch.cat([noisy.cpu(),\n",
    "                          denoised.cpu(),\n",
    "                          clean_subset.cpu()], dim=0)\n",
    "        grid = make_grid(grid, nrow=n_cols, padding=2)\n",
    "\n",
    "        plt.figure(figsize=(1.3*n_cols, 4))\n",
    "        plt.imshow(to_pil_image(grid))\n",
    "        plt.axis(\"off\")\n",
    "        plt.title(f\"Denoising results  –  σ = {σ:.3f}  (t = {t})\")\n",
    "        # for r, txt in enumerate(row_titles):\n",
    "        #     plt.text(-0.5, (r+0.5)/3, txt, va=\"center\",\n",
    "        #              ha=\"right\", fontsize=12, transform=plt.gca().transAxes)\n",
    "        plt.show()"
   ]
  },
  {
   "cell_type": "code",
   "execution_count": null,
   "id": "EvUC_iJMRjnZ",
   "metadata": {
    "id": "EvUC_iJMRjnZ"
   },
   "outputs": [],
   "source": []
  }
 ],
 "metadata": {
  "accelerator": "GPU",
  "colab": {
   "gpuType": "T4",
   "machine_shape": "hm",
   "provenance": []
  },
  "kernelspec": {
   "display_name": "Python 3 (ipykernel)",
   "language": "python",
   "name": "python3"
  },
  "language_info": {
   "codemirror_mode": {
    "name": "ipython",
    "version": 3
   },
   "file_extension": ".py",
   "mimetype": "text/x-python",
   "name": "python",
   "nbconvert_exporter": "python",
   "pygments_lexer": "ipython3",
   "version": "3.12.3"
  }
 },
 "nbformat": 4,
 "nbformat_minor": 5
}
